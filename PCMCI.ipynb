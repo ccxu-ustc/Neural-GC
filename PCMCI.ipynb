{
 "cells": [
  {
   "cell_type": "code",
   "execution_count": 1,
   "id": "0b6f399d-2c3e-4b2a-984f-c537b2019c55",
   "metadata": {},
   "outputs": [],
   "source": [
    "# Imports\n",
    "import numpy as np\n",
    "import matplotlib\n",
    "from matplotlib import pyplot as plt\n",
    "%matplotlib inline     \n",
    "## use `%matplotlib notebook` for interactive figures\n",
    "# plt.style.use('ggplot')\n",
    "import sklearn\n",
    "\n",
    "import tigramite\n",
    "from tigramite import data_processing as pp\n",
    "from tigramite import plotting as tp\n",
    "from tigramite.pcmci import PCMCI\n",
    "from tigramite.independence_tests import ParCorr, GPDC, CMIknn, CMIsymb\n",
    "from tigramite.models import LinearMediation, Prediction\n",
    "\n",
    "from synthetic import Causal_Figure, generator1, generator1_nonstationary, generator2, generator2_nonstationary"
   ]
  },
  {
   "cell_type": "code",
   "execution_count": 2,
   "id": "a9bdf6c6-4f09-46ad-853e-3722d51dbddc",
   "metadata": {},
   "outputs": [],
   "source": [
    "seed = 1\n",
    "data, GC_l = generator1_nonstationary(seed=seed) "
   ]
  },
  {
   "cell_type": "code",
   "execution_count": 3,
   "id": "0ce19dac-e444-4bbf-9699-cb6e201bb84a",
   "metadata": {},
   "outputs": [],
   "source": [
    "var_names = [r'$X^0$', r'$X^1$', r'$X^2$', r'$X^3$']\n",
    "dataframe = pp.DataFrame(data, var_names=var_names)"
   ]
  },
  {
   "cell_type": "code",
   "execution_count": 4,
   "id": "dbccc69d-d426-4e17-9739-77a44973bcd6",
   "metadata": {},
   "outputs": [
    {
     "name": "stdout",
     "output_type": "stream",
     "text": [
      "\n",
      "##\n",
      "## Step 1: PC1 algorithm with lagged conditions\n",
      "##\n",
      "\n",
      "Parameters:\n",
      "independence test = par_corr\n",
      "tau_min = 1\n",
      "tau_max = 1\n",
      "pc_alpha = [0.2]\n",
      "max_conds_dim = None\n",
      "max_combinations = 1\n",
      "\n",
      "\n",
      "\n",
      "## Resulting lagged parent (super)sets:\n",
      "\n",
      "    Variable $X^0$ has 1 link(s):\n",
      "        ($X^0$ -1): max_pval = 0.00000, min_val =  0.986\n",
      "\n",
      "    Variable $X^1$ has 1 link(s):\n",
      "        ($X^2$ -1): max_pval = 0.00000, min_val = -0.689\n",
      "\n",
      "    Variable $X^2$ has 1 link(s):\n",
      "        ($X^2$ -1): max_pval = 0.18264, min_val = -0.095\n"
     ]
    }
   ],
   "source": [
    "parcorr = ParCorr()\n",
    "pcmci_parcorr = PCMCI(\n",
    "    dataframe=dataframe, \n",
    "    cond_ind_test=parcorr,\n",
    "    verbosity=1)\n",
    "all_parents = pcmci_parcorr.run_pc_stable(tau_max=1, pc_alpha=0.2)"
   ]
  },
  {
   "cell_type": "code",
   "execution_count": 5,
   "id": "975eda2b-588f-41d1-a014-b9c187c7891f",
   "metadata": {},
   "outputs": [
    {
     "name": "stdout",
     "output_type": "stream",
     "text": [
      "\n",
      "##\n",
      "## Step 1: PC1 algorithm with lagged conditions\n",
      "##\n",
      "\n",
      "Parameters:\n",
      "independence test = par_corr\n",
      "tau_min = 1\n",
      "tau_max = 1\n",
      "pc_alpha = [0.2]\n",
      "max_conds_dim = None\n",
      "max_combinations = 1\n",
      "\n",
      "\n",
      "\n",
      "## Resulting lagged parent (super)sets:\n",
      "\n",
      "    Variable $X^0$ has 1 link(s):\n",
      "        ($X^0$ -1): max_pval = 0.00000, min_val =  0.986\n",
      "\n",
      "    Variable $X^1$ has 1 link(s):\n",
      "        ($X^2$ -1): max_pval = 0.00000, min_val = -0.689\n",
      "\n",
      "    Variable $X^2$ has 1 link(s):\n",
      "        ($X^2$ -1): max_pval = 0.18264, min_val = -0.095\n",
      "\n",
      "##\n",
      "## Step 2: MCI algorithm\n",
      "##\n",
      "\n",
      "Parameters:\n",
      "\n",
      "independence test = par_corr\n",
      "tau_min = 0\n",
      "tau_max = 1\n",
      "max_conds_py = None\n",
      "max_conds_px = None\n",
      "\n",
      "## Significant links at alpha = 0.05:\n",
      "\n",
      "    Variable $X^0$ has 2 link(s):\n",
      "        ($X^2$ -1): pval = 0.00000 | val =  1.000\n",
      "        ($X^0$ -1): pval = 0.00000 | val =  0.669\n",
      "\n",
      "    Variable $X^1$ has 1 link(s):\n",
      "        ($X^2$ -1): pval = 0.00000 | val = -0.690\n",
      "\n",
      "    Variable $X^2$ has 0 link(s):\n",
      "\n",
      "## Significant links at alpha = 0.01:\n",
      "\n",
      "    Variable $X^0$ has 2 link(s):\n",
      "        ($X^2$ -1): pval = 0.00000 | val =  1.000\n",
      "        ($X^0$ -1): pval = 0.00000 | val =  0.669\n",
      "\n",
      "    Variable $X^1$ has 1 link(s):\n",
      "        ($X^2$ -1): pval = 0.00000 | val = -0.690\n",
      "\n",
      "    Variable $X^2$ has 0 link(s):\n"
     ]
    }
   ],
   "source": [
    "results = pcmci_parcorr.run_pcmci(tau_max=1, pc_alpha=0.2)\n",
    "pcmci_parcorr.print_significant_links(\n",
    "        p_matrix = results['p_matrix'], \n",
    "        val_matrix = results['val_matrix'],\n",
    "        alpha_level = 0.01)"
   ]
  },
  {
   "cell_type": "code",
   "execution_count": 6,
   "id": "e0d52050-7d75-4ebb-8f2c-4782f2accb2c",
   "metadata": {},
   "outputs": [],
   "source": [
    "link_matrix = pcmci_parcorr.return_significant_links(pq_matrix=results['p_matrix'],\n",
    "                        val_matrix=results['val_matrix'], alpha_level=0.01)['link_matrix']"
   ]
  },
  {
   "cell_type": "raw",
   "id": "7612308e-df18-4918-a219-0f4e5ae9dace",
   "metadata": {},
   "source": [
    "tp.plot_time_series_graph(\n",
    "    val_matrix=results['val_matrix'],\n",
    "    link_matrix=link_matrix,\n",
    "    var_names=var_names,\n",
    "    link_colorbar_label='MCI',\n",
    "    ); plt.show()"
   ]
  },
  {
   "cell_type": "code",
   "execution_count": 7,
   "id": "dae66bb5-ef02-4a08-bd4a-1a4a81f1369d",
   "metadata": {},
   "outputs": [],
   "source": [
    "A = results['val_matrix']"
   ]
  },
  {
   "cell_type": "code",
   "execution_count": 8,
   "id": "7f67864b-b390-4e62-9015-0dd5ab5d5c50",
   "metadata": {},
   "outputs": [],
   "source": [
    "GC = np.abs(A[:,:,1].T)>0.2"
   ]
  },
  {
   "cell_type": "code",
   "execution_count": 9,
   "id": "1dc1f10f-4a33-4988-8520-bedbfabeca32",
   "metadata": {},
   "outputs": [],
   "source": [
    "np.save(\"./PCMCI_GC/PCMCI_\"+str(seed)+\".npy\",GC)"
   ]
  },
  {
   "cell_type": "code",
   "execution_count": 10,
   "id": "d1f3e64e-139a-40de-861f-aeaad0d261e8",
   "metadata": {},
   "outputs": [
    {
     "data": {
      "text/plain": [
       "array([[ True, False,  True],\n",
       "       [False, False,  True],\n",
       "       [False, False, False]])"
      ]
     },
     "execution_count": 10,
     "metadata": {},
     "output_type": "execute_result"
    }
   ],
   "source": [
    "GC"
   ]
  }
 ],
 "metadata": {
  "kernelspec": {
   "display_name": "Python 3",
   "language": "python",
   "name": "python3"
  },
  "language_info": {
   "codemirror_mode": {
    "name": "ipython",
    "version": 3
   },
   "file_extension": ".py",
   "mimetype": "text/x-python",
   "name": "python",
   "nbconvert_exporter": "python",
   "pygments_lexer": "ipython3",
   "version": "3.8.8"
  }
 },
 "nbformat": 4,
 "nbformat_minor": 5
}
